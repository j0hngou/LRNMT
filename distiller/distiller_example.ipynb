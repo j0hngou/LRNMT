{
 "cells": [
  {
   "cell_type": "code",
   "execution_count": null,
   "metadata": {},
   "outputs": [],
   "source": [
    "import transformers\n",
    "from datasets import load_dataset, load_metric\n",
    "from datasets.dataset_dict import DatasetDict\n",
    "import datasets\n",
    "import random\n",
    "import pandas as pd\n",
    "import numpy as np\n",
    "from transformers import AutoTokenizer\n",
    "from transformers import AutoModelForSeq2SeqLM, DataCollatorForSeq2Seq, Seq2SeqTrainingArguments, Seq2SeqTrainer\n",
    "import argparse\n",
    "import wandb\n",
    "from typing import Tuple\n",
    "import torch\n",
    "from torch.nn import Module\n",
    "from torch import Tensor\n",
    "import torch.nn as nn\n",
    "from transformers import PretrainedConfig\n",
    "from transformers.models.t5.modeling_t5 import T5Stack, T5ForConditionalGeneration\n",
    "\n",
    "# model_checkpoint = \"t5-small\"\n",
    "# model = AutoModelForSeq2SeqLM.from_pretrained(model_checkpoint)"
   ]
  },
  {
   "cell_type": "code",
   "execution_count": null,
   "metadata": {},
   "outputs": [],
   "source": [
    "def visualize_children(\n",
    "    object,\n",
    "    level : int = 0,\n",
    ") -> None:\n",
    "    \"\"\"\n",
    "    Prints the children of (object) and their children too, if there are any.\n",
    "    Uses the current depth (level) to print things in a ordonnate manner.\n",
    "    \"\"\"\n",
    "    print(f\"{'   ' * level}{level}- {type(object).__name__}\")\n",
    "    try:\n",
    "        for child in object.children():\n",
    "            visualize_children(child, level + 1)\n",
    "    except:\n",
    "        pass\n",
    "\n",
    "visualize_children(model)"
   ]
  }
 ],
 "metadata": {
  "kernelspec": {
   "display_name": "Python 3.9.13 ('dl4nlp')",
   "language": "python",
   "name": "python3"
  },
  "language_info": {
   "codemirror_mode": {
    "name": "ipython",
    "version": 3
   },
   "file_extension": ".py",
   "mimetype": "text/x-python",
   "name": "python",
   "nbconvert_exporter": "python",
   "pygments_lexer": "ipython3",
   "version": "3.9.13"
  },
  "orig_nbformat": 4,
  "vscode": {
   "interpreter": {
    "hash": "58d13f2f10dccb1fc6980cbdb204b9a9907a6ae2fdecbf08799c872bf73330f3"
   }
  }
 },
 "nbformat": 4,
 "nbformat_minor": 2
}
