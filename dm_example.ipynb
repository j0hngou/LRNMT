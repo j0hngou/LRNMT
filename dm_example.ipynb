{
 "cells": [
  {
   "cell_type": "code",
   "execution_count": 1,
   "id": "2e1c2305",
   "metadata": {},
   "outputs": [
    {
     "name": "stderr",
     "output_type": "stream",
     "text": [
      "Using custom data configuration din0s--ccmatrix_en-ro-b5eb1c3b243f258f\n",
      "Reusing dataset parquet (/home/angelos/.cache/huggingface/datasets/din0s___parquet/din0s--ccmatrix_en-ro-b5eb1c3b243f258f/0.0.0/2a3b91fbd88a2c90d1dbbb32b460cf621d31bd5b05b934492fdef7d8d6f236ec)\n"
     ]
    },
    {
     "data": {
      "application/vnd.jupyter.widget-view+json": {
       "model_id": "de055dedd11c45daa40daf4b080dd622",
       "version_major": 2,
       "version_minor": 0
      },
      "text/plain": [
       "  0%|          | 0/1 [00:00<?, ?it/s]"
      ]
     },
     "metadata": {},
     "output_type": "display_data"
    },
    {
     "name": "stderr",
     "output_type": "stream",
     "text": [
      "Loading cached processed dataset at /home/angelos/.cache/huggingface/datasets/din0s___parquet/din0s--ccmatrix_en-ro-b5eb1c3b243f258f/0.0.0/2a3b91fbd88a2c90d1dbbb32b460cf621d31bd5b05b934492fdef7d8d6f236ec/cache-e04cb05df3d5e9e2.arrow\n",
      "Using custom data configuration j0hngou--ccmatrix_en-fr-c75b778ef0fed3ea\n",
      "Reusing dataset parquet (/home/angelos/.cache/huggingface/datasets/j0hngou___parquet/j0hngou--ccmatrix_en-fr-c75b778ef0fed3ea/0.0.0/2a3b91fbd88a2c90d1dbbb32b460cf621d31bd5b05b934492fdef7d8d6f236ec)\n"
     ]
    },
    {
     "data": {
      "application/vnd.jupyter.widget-view+json": {
       "model_id": "b5015344ab924f358a93489f84138aa6",
       "version_major": 2,
       "version_minor": 0
      },
      "text/plain": [
       "  0%|          | 0/1 [00:00<?, ?it/s]"
      ]
     },
     "metadata": {},
     "output_type": "display_data"
    },
    {
     "name": "stderr",
     "output_type": "stream",
     "text": [
      "Loading cached processed dataset at /home/angelos/.cache/huggingface/datasets/j0hngou___parquet/j0hngou--ccmatrix_en-fr-c75b778ef0fed3ea/0.0.0/2a3b91fbd88a2c90d1dbbb32b460cf621d31bd5b05b934492fdef7d8d6f236ec/cache-0574ddf6b3bda371.arrow\n"
     ]
    },
    {
     "data": {
      "text/plain": [
       "{'biling_ids': {'en-ro': {'source': tensor([[   68,    15,  4181,  ..., 59542, 59542, 59542],\n",
       "           [ 2309,  2909, 30425,  ..., 59542, 59542, 59542],\n",
       "           [  115,   216,   142,  ..., 59542, 59542, 59542],\n",
       "           ...,\n",
       "           [  187,   301,     3,  ..., 59542, 59542, 59542],\n",
       "           [  120,   364,     3,  ..., 59542, 59542, 59542],\n",
       "           [  172, 21776, 11733,  ..., 59542, 59542, 59542]]),\n",
       "   'target': tensor([[ 4605,    62,     5,  ..., 59542, 59542, 59542],\n",
       "           [ 2309,  2909,    15,  ..., 59542, 59542, 59542],\n",
       "           [   12,  2133,  1675,  ..., 59542, 59542, 59542],\n",
       "           ...,\n",
       "           [   15, 12668,    78,  ..., 59542, 59542, 59542],\n",
       "           [   12,   176,   538,  ..., 59542, 59542, 59542],\n",
       "           [  172, 21776,    15,  ..., 59542, 59542, 59542]])},\n",
       "  'en-fr': {'source': tensor([[  160,  2179,    32,  ..., 59513, 59513, 59513],\n",
       "           [11123,  1703, 21440,  ..., 59513, 59513, 59513],\n",
       "           [  187,  7164, 34991,  ..., 59513, 59513, 59513],\n",
       "           ...,\n",
       "           [31656,     7,     4,  ..., 59513, 59513, 59513],\n",
       "           [   97,  2196,     4,  ..., 59513, 59513, 59513],\n",
       "           [   35,  3234,    69,  ..., 59513, 59513, 59513]]),\n",
       "   'target': tensor([[  335,  2179,    43,  ..., 59513, 59513, 59513],\n",
       "           [   89,  1605,   108,  ..., 59513, 59513, 59513],\n",
       "           [   83,   143,  5086,  ..., 59513, 59513, 59513],\n",
       "           ...,\n",
       "           [ 4787,     5,     8,  ..., 59513, 59513, 59513],\n",
       "           [ 6305,   309,  1605,  ..., 59513, 59513, 59513],\n",
       "           [   87,     6,  1597,  ..., 59513, 59513, 59513]])}},\n",
       " 'multiling_ids': {'en-ro': {'source': tensor([[ 4750,   948, 27429,  ..., 59542, 59542, 59542],\n",
       "           [ 4750,   948, 27429,  ..., 59542, 59542, 59542],\n",
       "           [ 4750,   948, 27429,  ..., 59542, 59542, 59542],\n",
       "           ...,\n",
       "           [ 4750,   948, 27429,  ..., 59542, 59542, 59542],\n",
       "           [ 4750,   948, 27429,  ..., 59542, 59542, 59542],\n",
       "           [ 4750,   948, 27429,  ..., 59542, 59542, 59542]]),\n",
       "   'target': tensor([[ 4605,    62,     5,  ..., 59542, 59542, 59542],\n",
       "           [ 2309,  2909,    15,  ..., 59542, 59542, 59542],\n",
       "           [   12,  2133,  1675,  ..., 59542, 59542, 59542],\n",
       "           ...,\n",
       "           [   15, 12668,    78,  ..., 59542, 59542, 59542],\n",
       "           [   12,   176,   538,  ..., 59542, 59542, 59542],\n",
       "           [  172, 21776,    15,  ..., 59542, 59542, 59542]])},\n",
       "  'en-fr': {'source': tensor([[ 4750,  8528, 27429,  ..., 59542, 59542, 59542],\n",
       "           [ 4750,  8528, 27429,  ..., 59542, 59542, 59542],\n",
       "           [ 4750,  8528, 27429,  ..., 59542, 59542, 59542],\n",
       "           ...,\n",
       "           [ 4750,  8528, 27429,  ..., 59542, 59542, 59542],\n",
       "           [ 4750,  8528, 27429,  ..., 59542, 59542, 59542],\n",
       "           [ 4750,  8528, 27429,  ..., 59542, 59542, 59542]]),\n",
       "   'target': tensor([[  162,    35,  1365,  ..., 59542, 59542, 59542],\n",
       "           [  162, 13619,   200,  ..., 59542, 59542, 59542],\n",
       "           [ 9605,    61, 13370,  ..., 59542, 59542, 59542],\n",
       "           ...,\n",
       "           [ 8728,     5,    24,  ..., 59542, 59542, 59542],\n",
       "           [ 4555,   294, 13619,  ..., 59542, 59542, 59542],\n",
       "           [  160,     7,  1566,  ..., 59542, 59542, 59542]])}}}"
      ]
     },
     "execution_count": 1,
     "metadata": {},
     "output_type": "execute_result"
    }
   ],
   "source": [
    "from datamodules.mt_distillation_datamodule import MTDistillationDatamodule\n",
    "\n",
    "dm = MTDistillationDatamodule(batch_size=64)\n",
    "dm.setup()\n",
    "batch = next(iter(dm.train_dataloader()))\n",
    "batch"
   ]
  },
  {
   "cell_type": "code",
   "execution_count": 2,
   "id": "1f81e115",
   "metadata": {},
   "outputs": [
    {
     "name": "stdout",
     "output_type": "stream",
     "text": [
      "torch.Size([28, 57])\n",
      "torch.Size([36, 73])\n"
     ]
    }
   ],
   "source": [
    "print(batch[\"biling_ids\"][\"en-fr\"][\"source\"].shape)\n",
    "print(batch[\"biling_ids\"][\"en-ro\"][\"source\"].shape)"
   ]
  },
  {
   "cell_type": "code",
   "execution_count": 3,
   "id": "ce5ad7d8",
   "metadata": {},
   "outputs": [],
   "source": [
    "from transformers import AutoModelForSeq2SeqLM\n",
    "\n",
    "model_name = \"Helsinki-NLP/opus-mt-en-ro\"\n",
    "model = AutoModelForSeq2SeqLM.from_pretrained(model_name)"
   ]
  },
  {
   "cell_type": "code",
   "execution_count": 5,
   "id": "a39d526b",
   "metadata": {},
   "outputs": [
    {
     "data": {
      "text/plain": [
       "tensor([[[ 3.2802, -4.7737,  0.9674,  ..., -4.7576, -4.7386,  0.0000],\n",
       "         [ 2.9722, -4.5950,  1.0898,  ..., -4.5877, -4.5748,  0.0000],\n",
       "         [ 2.4881, -4.5278,  1.2442,  ..., -4.5034, -4.5410,  0.0000],\n",
       "         ...,\n",
       "         [ 2.0573, -3.5507,  3.1840,  ..., -3.3844, -3.3660,  0.0000],\n",
       "         [ 2.0521, -3.5547,  3.1824,  ..., -3.3867, -3.3682,  0.0000],\n",
       "         [ 2.0465, -3.5592,  3.1806,  ..., -3.3897, -3.3710,  0.0000]],\n",
       "\n",
       "        [[ 5.0411, -2.9902,  4.1303,  ..., -2.8697, -2.8837,  0.0000],\n",
       "         [ 4.9592, -3.4141,  4.2375,  ..., -3.2280, -3.2570,  0.0000],\n",
       "         [ 2.9749, -3.7226,  5.8678,  ..., -3.6003, -3.5884,  0.0000],\n",
       "         ...,\n",
       "         [ 0.7458, -4.3433,  1.1353,  ..., -4.1394, -4.1251,  0.0000],\n",
       "         [ 0.7416, -4.3461,  1.1274,  ..., -4.1420, -4.1278,  0.0000],\n",
       "         [ 0.7376, -4.3484,  1.1176,  ..., -4.1440, -4.1299,  0.0000]],\n",
       "\n",
       "        [[ 5.5362, -3.3513,  4.3468,  ..., -3.3851, -3.4032,  0.0000],\n",
       "         [ 7.6655, -2.3891,  6.0587,  ..., -2.3622, -2.3424,  0.0000],\n",
       "         [ 6.8752, -2.0381,  6.5864,  ..., -1.8335, -1.8053,  0.0000],\n",
       "         ...,\n",
       "         [ 1.3676, -3.5018,  2.8005,  ..., -3.3743, -3.3296,  0.0000],\n",
       "         [ 1.3649, -3.5011,  2.7968,  ..., -3.3732, -3.3285,  0.0000],\n",
       "         [ 1.3613, -3.5010,  2.7923,  ..., -3.3728, -3.3282,  0.0000]],\n",
       "\n",
       "        ...,\n",
       "\n",
       "        [[ 9.9383, -2.4228,  3.8291,  ..., -2.3843, -2.4119,  0.0000],\n",
       "         [ 7.8655, -3.4835,  3.2624,  ..., -3.4671, -3.4975,  0.0000],\n",
       "         [ 7.6332, -3.8794,  3.8381,  ..., -3.6866, -3.6965,  0.0000],\n",
       "         ...,\n",
       "         [ 1.6505, -3.8066,  2.9508,  ..., -3.6796, -3.6804,  0.0000],\n",
       "         [ 1.6409, -3.8074,  2.9382,  ..., -3.6799, -3.6806,  0.0000],\n",
       "         [ 1.6311, -3.8092,  2.9243,  ..., -3.6811, -3.6819,  0.0000]],\n",
       "\n",
       "        [[ 5.4254, -3.4976,  6.0548,  ..., -3.4681, -3.4951,  0.0000],\n",
       "         [ 6.3059, -2.4842,  6.3352,  ..., -2.5247, -2.4885,  0.0000],\n",
       "         [ 7.1889, -2.7154,  5.0511,  ..., -2.6839, -2.6658,  0.0000],\n",
       "         ...,\n",
       "         [ 1.4319, -3.2768,  2.3849,  ..., -3.1007, -3.0955,  0.0000],\n",
       "         [ 1.4306, -3.2693,  2.3815,  ..., -3.0925, -3.0874,  0.0000],\n",
       "         [ 1.4290, -3.2619,  2.3790,  ..., -3.0844, -3.0795,  0.0000]],\n",
       "\n",
       "        [[ 3.4581, -4.0359,  4.9753,  ..., -3.8225, -3.8552,  0.0000],\n",
       "         [ 3.6783, -4.7324,  4.7171,  ..., -4.4755, -4.5006,  0.0000],\n",
       "         [ 3.9317, -4.0218,  7.2422,  ..., -3.9546, -3.9374,  0.0000],\n",
       "         ...,\n",
       "         [ 0.8200, -3.4519,  2.1646,  ..., -3.3289, -3.3595,  0.0000],\n",
       "         [ 0.8258, -3.4428,  2.1705,  ..., -3.3205, -3.3514,  0.0000],\n",
       "         [ 0.8322, -3.4332,  2.1780,  ..., -3.3114, -3.3426,  0.0000]]],\n",
       "       grad_fn=<AddBackward0>)"
      ]
     },
     "execution_count": 5,
     "metadata": {},
     "output_type": "execute_result"
    }
   ],
   "source": [
    "model(input_ids=batch[\"biling_ids\"][\"en-ro\"][\"source\"], decoder_input_ids=batch[\"biling_ids\"][\"en-ro\"][\"target\"]).logits"
   ]
  },
  {
   "cell_type": "code",
   "execution_count": null,
   "id": "b2e65907",
   "metadata": {},
   "outputs": [],
   "source": []
  }
 ],
 "metadata": {
  "kernelspec": {
   "display_name": "Python 3 (ipykernel)",
   "language": "python",
   "name": "python3"
  },
  "language_info": {
   "codemirror_mode": {
    "name": "ipython",
    "version": 3
   },
   "file_extension": ".py",
   "mimetype": "text/x-python",
   "name": "python",
   "nbconvert_exporter": "python",
   "pygments_lexer": "ipython3",
   "version": "3.9.13"
  }
 },
 "nbformat": 4,
 "nbformat_minor": 5
}
