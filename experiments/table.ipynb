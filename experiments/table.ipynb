{
 "cells": [
  {
   "cell_type": "code",
   "execution_count": null,
   "metadata": {},
   "outputs": [],
   "source": [
    "%run evaluate_models.py --result_type table"
   ]
  },
  {
   "cell_type": "code",
   "execution_count": 8,
   "metadata": {},
   "outputs": [
    {
     "name": "stdout",
     "output_type": "stream",
     "text": [
      "Dual teacher + back-tranlsation (<-) BLEU: 19.05\n",
      "Direct fine-tuning on Italian T5 base BLEU: 21.11\n",
      "Direct Synthesis(<-) T5 base BLEU: 27.51\n",
      "Direct fine-tuning on Italian T5 small BLEU: 8.92\n",
      "Direct Synthesis(<-) T5 small BLEU: 16.52\n"
     ]
    }
   ],
   "source": [
    "import os\n",
    "import json\n",
    "\n",
    "RESULTS_DIR = \"eval_results/\"\n",
    "\n",
    "name_dict = {\n",
    "    \"t5-small-it\"                           : \"No fine-tuning T5 small\", \n",
    "    \"t5-base-it\"                            : \"No fine-tuning T5 base\" ,\n",
    "    \"t5-small-finetuned-en-to-it-it\"        : \"Direct fine-tuning on Italian T5 small\", \n",
    "    \"t5-base-finetuned-en-to-it-it\"         : \"Direct fine-tuning on Italian T5 base\",\n",
    "    \"t5-small-fr-finetuned-en-to-it-it\"     : \"Direct fine-tuning + pretraining on Fr. T5 small\",\n",
    "    \"t5-small-ro-finetuned-en-to-it-it\"     : \"Direct fine-tuning + pretraining on Ro. T5 small\",\n",
    "    \"t5-base_fr-finetuned-en-to-it-it\"      : \"Direct fine-tuning + pretraining on Fr. T5 base\",\n",
    "    \"t5-base_ro-finetuned-en-to-it-it\"      : \"Direct fine-tuning + pretraining on Ro. T5 base\",\n",
    "    \"t5-small-finetuned-en-to-it-hrs-it\"    : \"Related Synthesis(->) T5 small\",\n",
    "    \"t5-base-finetuned-en-to-it-hrs-it\"     : \"Related Synthesis(->) T5 base\",\n",
    "    \"t5-small-finetuned-en-to-it-lrs-it\"    : \"Direct Synthesis(->) T5 small\",\n",
    "    \"t5-base-finetuned-en-to-it-lrs-it\"     : \"Direct Synthesis(->) T5 base\",\n",
    "    \"t5-small-finetuned-en-to-it-lrs-back-it\"   : \"Direct Synthesis(<-) T5 small\",\n",
    "    \"t5-base-finetuned-en-to-it-lrs-back-it\"    : \"Direct Synthesis(<-) T5 base\",\n",
    "    \"1teacherdistilllowresource-it\"             : \"Single teacher KD\",\n",
    "    \"1teacherdistillbacktranslate-it\"           : \"Single teacher KD + backtranslation\",\n",
    "    \"2teachersdistilllowresource-it\"            : \"Dual teacher KD\",\n",
    "    \"2teachersdistillbacktranslation-en-it-it\"  : \"Dual teacher KD + back-tranlsation (<-)\"\n",
    "}\n",
    "\n",
    "for dir in os.listdir(RESULTS_DIR):\n",
    "    for file in os.listdir(os.path.join(RESULTS_DIR, dir)):\n",
    "        if file.endswith(\"metrics.json\"):\n",
    "            with open(os.path.join(RESULTS_DIR, dir, file), \"r\") as f:\n",
    "                metrics = json.load(f)\n",
    "            print(f\"{name_dict[dir]} BLEU: {metrics['eval_bleu']:.2f}\")"
   ]
  },
  {
   "cell_type": "code",
   "execution_count": null,
   "metadata": {},
   "outputs": [],
   "source": []
  }
 ],
 "metadata": {
  "kernelspec": {
   "display_name": "Python 3.7.7 ('py37')",
   "language": "python",
   "name": "python3"
  },
  "language_info": {
   "codemirror_mode": {
    "name": "ipython",
    "version": 3
   },
   "file_extension": ".py",
   "mimetype": "text/x-python",
   "name": "python",
   "nbconvert_exporter": "python",
   "pygments_lexer": "ipython3",
   "version": "3.7.7"
  },
  "orig_nbformat": 4,
  "vscode": {
   "interpreter": {
    "hash": "1d00da672fda6b40530d5d20e4674e0bc83fcd4bdbd97f4e4d6fd328e9d24e70"
   }
  }
 },
 "nbformat": 4,
 "nbformat_minor": 2
}
