{
 "cells": [
  {
   "cell_type": "code",
   "execution_count": null,
   "metadata": {},
   "outputs": [],
   "source": [
    "%run evaluate_models.py --result_type table"
   ]
  },
  {
   "cell_type": "code",
   "execution_count": 4,
   "metadata": {},
   "outputs": [
    {
     "name": "stdout",
     "output_type": "stream",
     "text": [
      "No fine-tuning T5 small BLEU: 2.69\n",
      "No fine-tuning T5 base BLEU: 2.52\n",
      "Direct fine-tuning on Italian T5 small BLEU: 9.30\n",
      "Direct fine-tuning on Italian T5 base BLEU: 20.71\n",
      "Direct fine-tuning + pretraining on Fr. T5 small BLEU: 8.65\n",
      "Direct fine-tuning + pretraining on Ro. T5 small BLEU: 8.80\n",
      "Direct fine-tuning + pretraining on Fr. T5 base BLEU: 20.56\n",
      "Direct fine-tuning + pretraining on Ro. T5 base BLEU: 20.71\n",
      "Related Synthesis(->) T5 small BLEU: 8.99\n",
      "Related Synthesis(->) T5 base BLEU: 21.39\n",
      "Direct Synthesis(->) T5 small BLEU: 9.51\n",
      "Direct Synthesis(->) T5 base BLEU: 22.16\n",
      "Direct Synthesis(<-) T5 small BLEU: 16.64\n",
      "Direct Synthesis(<-) T5 base BLEU: 27.53\n",
      "Single teacher KD BLEU: 15.10\n",
      "Single teacher KD + backtranslation BLEU: 18.49\n",
      "Dual teacher KD BLEU: 15.10\n",
      "Dual teacher KD + back-tranlsation (<-) BLEU: 18.61\n"
     ]
    }
   ],
   "source": [
    "import os\n",
    "import json\n",
    "\n",
    "RESULTS_DIR = \"eval_results/\"\n",
    "\n",
    "name_dict = {\n",
    "    \"t5-small-it\"                           : \"No fine-tuning T5 small\", \n",
    "    \"t5-base-it\"                            : \"No fine-tuning T5 base\" ,\n",
    "    \"t5-small-finetuned-en-to-it-it\"        : \"Direct fine-tuning on Italian T5 small\", \n",
    "    \"t5-base-finetuned-en-to-it-it\"         : \"Direct fine-tuning on Italian T5 base\",\n",
    "    \"t5-small-fr-finetuned-en-to-it-it\"     : \"Direct fine-tuning + pretraining on Fr. T5 small\",\n",
    "    \"t5-small-ro-finetuned-en-to-it-it\"     : \"Direct fine-tuning + pretraining on Ro. T5 small\",\n",
    "    \"t5-base_fr-finetuned-en-to-it-it\"      : \"Direct fine-tuning + pretraining on Fr. T5 base\",\n",
    "    \"t5-base_ro-finetuned-en-to-it-it\"      : \"Direct fine-tuning + pretraining on Ro. T5 base\",\n",
    "    \"t5-small-finetuned-en-to-it-hrs-it\"    : \"Related Synthesis(->) T5 small\",\n",
    "    \"t5-base-finetuned-en-to-it-hrs-it\"     : \"Related Synthesis(->) T5 base\",\n",
    "    \"t5-small-finetuned-en-to-it-lrs-it\"    : \"Direct Synthesis(->) T5 small\",\n",
    "    \"t5-base-finetuned-en-to-it-lrs-it\"     : \"Direct Synthesis(->) T5 base\",\n",
    "    \"t5-small-finetuned-en-to-it-lrs-back-it\"   : \"Direct Synthesis(<-) T5 small\",\n",
    "    \"t5-base-finetuned-en-to-it-lrs-back-it\"    : \"Direct Synthesis(<-) T5 base\",\n",
    "    \"1teacherdistilllowresource-it\"             : \"Single teacher KD\",\n",
    "    \"1teacherdistillbacktranslate-it\"           : \"Single teacher KD + backtranslation\",\n",
    "    \"2teachersdistilllowresource-it\"            : \"Dual teacher KD\",\n",
    "    \"2teachersdistillbacktranslation-en-it-it\"  : \"Dual teacher KD + back-tranlsation (<-)\"\n",
    "}\n",
    "\n",
    "for folder_name, experiment in name_dict.items():\n",
    "    file = f\"{folder_name}/metrics.json\"\n",
    "    with open(os.path.join(RESULTS_DIR, file), \"r\") as f:\n",
    "        metrics = json.load(f)\n",
    "        print(f\"{experiment} BLEU: {metrics['eval_bleu']:.2f}\")"
   ]
  }
 ],
 "metadata": {
  "kernelspec": {
   "display_name": "Python 3 (ipykernel)",
   "language": "python",
   "name": "python3"
  },
  "language_info": {
   "codemirror_mode": {
    "name": "ipython",
    "version": 3
   },
   "file_extension": ".py",
   "mimetype": "text/x-python",
   "name": "python",
   "nbconvert_exporter": "python",
   "pygments_lexer": "ipython3",
   "version": "3.9.13"
  },
  "vscode": {
   "interpreter": {
    "hash": "1d00da672fda6b40530d5d20e4674e0bc83fcd4bdbd97f4e4d6fd328e9d24e70"
   }
  }
 },
 "nbformat": 4,
 "nbformat_minor": 2
}
