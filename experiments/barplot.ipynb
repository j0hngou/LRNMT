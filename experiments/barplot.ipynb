{
 "cells": [
  {
   "cell_type": "code",
   "execution_count": null,
   "metadata": {},
   "outputs": [],
   "source": [
    "%run evaluate_models.py --result_type bar_plot"
   ]
  },
  {
   "cell_type": "code",
   "execution_count": null,
   "metadata": {},
   "outputs": [],
   "source": [
    "import os\n",
    "import json\n",
    "import numpy as np\n",
    "import pandas as pd\n",
    "\n",
    "RESULTS_DIR = \"eval_results/\"\n",
    "d = {}\n",
    "filenames = ['t5-small-finetuned-en-to-it-it', 't5-small-finetuned-en-to-it-lrs-back-it', '2teachersdistillbacktranslation-en-it-it', 'dummy', 't5-base-finetuned-en-to-it-it', 't5-base-finetuned-en-to-it-lrs-back-it']\n",
    "model_names = ['T5-small: direct fine-tuning', 'T5-small: direct synthesis', 'Dual distillation (+ back-translation)', '', 'T5-base: direct fine-tuning', 'T5-base: direct synthesis']\n",
    "\n",
    "for i, filename in enumerate(filenames):\n",
    "  #-----------------key1: model name-----------------#\n",
    "  model_name = model_names[i]\n",
    "\n",
    "  #-----------------key2: bucket size-----------------# \n",
    "  zarray = np.zeros(len(os.listdir(RESULTS_DIR + filename)))\n",
    "  idx_dict = {\"64\": 0, \"128\": 1, \"512\": 2}\n",
    "  for jsfile in os.listdir(RESULTS_DIR + filename):\n",
    "    bucket_size = jsfile.split('-')[1].split('.')[0]\n",
    "    idx = idx_dict[bucket_size]\n",
    "    f = open(RESULTS_DIR + filename + '/' + jsfile)\n",
    "    data = json.load(f)\n",
    "    zarray[idx] = data['eval_bleu']\n",
    "    f.close\n",
    "  d[model_name] = zarray.tolist()\n",
    "\n",
    "\n",
    "#-----------------plotting-----------------#\n",
    "d_df = pd.DataFrame(d)\n",
    "d_df.index = [r'$s \\leq 64$', r\"$64 < s \\leq 128$\", r\"$128 < s \\leq 512$\"]\n",
    "color_list = ['#e6f9e1', '#bae4bc', '#7bccc4', '#ffffff', '#43a2ca', '#0868ac']\n",
    "ax = d_df.plot.bar(rot=0, figsize=(12, 8), color=color_list)\n",
    "ax.tick_params(axis='both', labelsize=16)\n",
    "ax.legend(fontsize=14)\n",
    "ax.set_xlabel(r\"Input sentence length $s$\",  fontsize=18)\n",
    "ax.set_ylabel(\"BLEU score\",  fontsize=18)"
   ]
  }
 ],
 "metadata": {
  "kernelspec": {
   "display_name": "Python 3.9.13 ('dl4nlp')",
   "language": "python",
   "name": "python3"
  },
  "language_info": {
   "codemirror_mode": {
    "name": "ipython",
    "version": 3
   },
   "file_extension": ".py",
   "mimetype": "text/x-python",
   "name": "python",
   "nbconvert_exporter": "python",
   "pygments_lexer": "ipython3",
   "version": "3.9.13"
  },
  "vscode": {
   "interpreter": {
    "hash": "f028e9271f73c724834228e8d957427b3dcc805f808542b3675270f83cec80e6"
   }
  }
 },
 "nbformat": 4,
 "nbformat_minor": 0
}
