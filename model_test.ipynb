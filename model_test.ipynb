{
 "cells": [
  {
   "cell_type": "code",
   "execution_count": 1,
   "metadata": {
    "collapsed": true
   },
   "outputs": [],
   "source": [
    "from transformers import AutoModelForSeq2SeqLM\n",
    "\n",
    "model_name = \"Helsinki-NLP/opus-mt-en-ro\"\n",
    "model = AutoModelForSeq2SeqLM.from_pretrained(model_name)"
   ]
  },
  {
   "cell_type": "code",
   "execution_count": 2,
   "outputs": [
    {
     "name": "stderr",
     "output_type": "stream",
     "text": [
      "Using custom data configuration din0s--ccmatrix_en-ro-424e720546e52a09\n",
      "Reusing dataset parquet (/home/dinos/.cache/huggingface/datasets/din0s___parquet/din0s--ccmatrix_en-ro-424e720546e52a09/0.0.0/2a3b91fbd88a2c90d1dbbb32b460cf621d31bd5b05b934492fdef7d8d6f236ec)\n"
     ]
    },
    {
     "data": {
      "text/plain": "  0%|          | 0/1 [00:00<?, ?it/s]",
      "application/vnd.jupyter.widget-view+json": {
       "version_major": 2,
       "version_minor": 0,
       "model_id": "3e2caf05f4fe4ee7b1f0195e3a8f3582"
      }
     },
     "metadata": {},
     "output_type": "display_data"
    },
    {
     "name": "stderr",
     "output_type": "stream",
     "text": [
      "Using custom data configuration din0s--ccmatrix_en-ro-424e720546e52a09\n",
      "Reusing dataset parquet (/home/dinos/.cache/huggingface/datasets/din0s___parquet/din0s--ccmatrix_en-ro-424e720546e52a09/0.0.0/2a3b91fbd88a2c90d1dbbb32b460cf621d31bd5b05b934492fdef7d8d6f236ec)\n"
     ]
    },
    {
     "data": {
      "text/plain": "  0%|          | 0/1 [00:00<?, ?it/s]",
      "application/vnd.jupyter.widget-view+json": {
       "version_major": 2,
       "version_minor": 0,
       "model_id": "871174de06b345429cdd151b18674d5e"
      }
     },
     "metadata": {},
     "output_type": "display_data"
    },
    {
     "data": {
      "text/plain": "  0%|          | 0/1000 [00:00<?, ?ba/s]",
      "application/vnd.jupyter.widget-view+json": {
       "version_major": 2,
       "version_minor": 0,
       "model_id": "714a874e45424ce0879c7452fb6657c1"
      }
     },
     "metadata": {},
     "output_type": "display_data"
    }
   ],
   "source": [
    "from datamodules import CCMatrixDataModule\n",
    "\n",
    "dm = CCMatrixDataModule(\n",
    "    dataset_name=\"din0s/ccmatrix_en-ro\",\n",
    "    tokenizer_name=model_name,\n",
    "    batch_size=4,\n",
    ")\n",
    "dm.prepare_data()\n",
    "dm.setup()\n",
    "\n",
    "batch = next(iter(dm.train_dataloader()))\n",
    "source_inputs = batch['en']\n",
    "target_inputs = batch['ro']\n",
    "\n",
    "tokenizer = dm.tokenizer"
   ],
   "metadata": {
    "collapsed": false
   }
  },
  {
   "cell_type": "code",
   "execution_count": 3,
   "outputs": [
    {
     "data": {
      "text/plain": "['The▁event▁consisted in a▁military and▁religious▁ceremony and the solemn▁reading of the▁names of the 168▁Romanian▁soldiers▁who▁lost▁their▁lives in the▁war▁prison▁camp▁which▁was▁operated in▁this▁locality,▁during World War I.',\n 'The▁cuts in social▁benefits▁endured by▁many▁families are▁even▁harder to▁bear in▁situations of▁unemployment.',\n 'In the case of James Bulger,',\n 'The segmented▁design▁allows a▁realistic▁rotational▁behaviour.']"
     },
     "execution_count": 3,
     "metadata": {},
     "output_type": "execute_result"
    }
   ],
   "source": [
    "[tokenizer.decode(s, skip_special_tokens=True) for s in source_inputs]"
   ],
   "metadata": {
    "collapsed": false
   }
  },
  {
   "cell_type": "code",
   "execution_count": 4,
   "outputs": [
    {
     "data": {
      "text/plain": "['▁Evenimentul a constat într-un ceremonial▁militar și religios de sfințire a monumentului și un moment de rostire solemnă a▁numelor celor 168 de▁militari români morți în▁lagărul de prizonieri din această localitate în timpul Primului Război Mondial cărora le este dedicată opera▁comemorativă de război.',\n '▁Reducerile beneficiilor sociale pentru multe familii sunt încă și mai▁greu de suportat în caz de șomaj.',\n 'În cazul lui Jack Butler,',\n 'Proiectarea segmentată permite obținerea unui comportament realist la rotație.']"
     },
     "execution_count": 4,
     "metadata": {},
     "output_type": "execute_result"
    }
   ],
   "source": [
    "[tokenizer.decode(s, skip_special_tokens=True) for s in target_inputs]"
   ],
   "metadata": {
    "collapsed": false
   }
  },
  {
   "cell_type": "code",
   "execution_count": 5,
   "outputs": [
    {
     "data": {
      "text/plain": "['Evenimentul a constat într-o ceremonie militară și religioasă și într-o lectură solemnă a numelor celor 168 de soldați români care și-au pierdut viața în lagărul de război care a fost operat în această localitate, în timpul Primului Război Mondial.',\n 'Reducerea prestaţiilor sociale îndurate de multe familii este şi mai greu de suportat în situaţii de şomaj.',\n 'În cazul lui James Bulger,',\n 'Designul segmentat permite un comportament de rotație realist.']"
     },
     "execution_count": 5,
     "metadata": {},
     "output_type": "execute_result"
    }
   ],
   "source": [
    "[tokenizer.decode(s, skip_special_tokens=True) for s in model.generate(source_inputs)]"
   ],
   "metadata": {
    "collapsed": false
   }
  }
 ],
 "metadata": {
  "kernelspec": {
   "display_name": "Python 3",
   "language": "python",
   "name": "python3"
  },
  "language_info": {
   "codemirror_mode": {
    "name": "ipython",
    "version": 2
   },
   "file_extension": ".py",
   "mimetype": "text/x-python",
   "name": "python",
   "nbconvert_exporter": "python",
   "pygments_lexer": "ipython2",
   "version": "2.7.6"
  }
 },
 "nbformat": 4,
 "nbformat_minor": 0
}
